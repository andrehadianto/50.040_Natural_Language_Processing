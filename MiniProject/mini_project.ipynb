{
  "nbformat": 4,
  "nbformat_minor": 0,
  "metadata": {
    "colab": {
      "name": "mini_project.ipynb",
      "provenance": [],
      "collapsed_sections": [
        "PVpoDgU7CdXb",
        "2kAezpJ9CdXd",
        "3o_yjh9lCdXg",
        "HxZoUsLxHrKT",
        "fS1zJjOmHrKf",
        "cernoBq6CdX9",
        "bDOUuC7-CdX-"
      ]
    },
    "kernelspec": {
      "display_name": "Python 3",
      "language": "python",
      "name": "python3"
    },
    "language_info": {
      "codemirror_mode": {
        "name": "ipython",
        "version": 3
      },
      "file_extension": ".py",
      "mimetype": "text/x-python",
      "name": "python",
      "nbconvert_exporter": "python",
      "pygments_lexer": "ipython3",
      "version": "3.7.7"
    },
    "accelerator": "GPU"
  },
  "cells": [
    {
      "cell_type": "markdown",
      "metadata": {
        "colab_type": "text",
        "id": "pf_8OI34CdXU"
      },
      "source": [
        "<img src=\"sutd.png\" alt=\"drawing\" style=\"width:300px;\"/>\n",
        "\n",
        "## <center>50.040 Natural Language Processing, Summer 2020<center>\n",
        "<center>**Due 19 June 2020, 5pm** <center>\n",
        "Mini Project"
      ]
    },
    {
      "cell_type": "markdown",
      "metadata": {
        "colab_type": "text",
        "id": "YAN5MA5GCdXU"
      },
      "source": [
        "**Write your student ID and name**\n",
        "\n",
        "\n",
        "### STUDENT ID: 1002837\n",
        "\n",
        "### Name: ANDRE HADIANTO LESMANA\n",
        "\n",
        "### Students with whom you have discussed (if any):"
      ]
    },
    {
      "cell_type": "markdown",
      "metadata": {
        "colab_type": "text",
        "id": "V0iF5uWcCdXV"
      },
      "source": [
        "# Introduction\n",
        "\n",
        "Language models are very useful for a wide range of applications, e.g., speech recognition and machine translation. Consider a sentence consisting of words $x_1, x_2, …, x_m$, where $m$ is the length of the sentence, the goal of language modeling is to model the probability of the sentence, where $m \\geq 1$, $x_i \\in V $ and $V$ is the vocabulary of the corpus:\n",
        "$$p(x_1, x_2, …, x_m)$$\n",
        "In this project, we are going to explore both statistical language model and neural language model on the [Wikitext-2](https://blog.einstein.ai/the-wikitext-long-term-dependency-language-modeling-dataset/) datasets. Download wikitext-2 word-level data and put it under the ``data`` folder.\n",
        "\n",
        "## Statistical  Language Model\n",
        "\n",
        "A simple way is to view words as independent random variables (i.e., zero-th order Markovian assumption). The joint probability can be written as:\n",
        "$$p(x_1, x_2, …, x_m)=\\prod_{i=1}^m p(x_i)$$\n",
        "However, this model ignores the word order information, to account for which, under the first-order Markovian assumption, the joint probability can be written as:\n",
        "$$p(x_0, x_1, x_2, …, x_m)= \\prod_{i=1}^{m}p(x_i \\mid x_{i-1})$$\n",
        "Under the second-order Markovian assumption, the joint probability can be written as:\n",
        "$$p(x_{-1}, x_0, x_1, x_2, …, x_m)= \\prod_{i=1}^{m}p(x_i \\mid x_{i-2}, x_{i-1})$$\n",
        "Similar to what we did in HMM, we will assume that $x_{-1}=START, x_0=START, x_m = STOP$ in this definition, where $START, STOP$ are special symbols referring to the start and the end of a sentence.\n",
        "\n",
        "\n",
        "\n",
        "\n",
        "\n"
      ]
    },
    {
      "cell_type": "markdown",
      "metadata": {
        "colab_type": "text",
        "id": "F5wC4lqKCdXW"
      },
      "source": [
        "### Parameter estimation\n",
        "\n",
        "Let's use $count(u)$ to denote the number of times the unigram $u$ appears in the corpus, use $count(v, u)$ to denote the number of times the bigram $v, u$ appears in the corpus, and $count(w, v, u)$ the times the trigram $w, v, u$ appears in the corpus, $u \\in V \\cup STOP$ and $w, v \\in V \\cup START$.\n",
        "\n",
        "And the parameters of the unigram, bigram and trigram models can be obtained using maximum likelihood estimation (MLE).\n",
        "\n",
        "- In the unigram model, the parameters can be estimated as: $$p(u) = \\frac {count(u)}{c}$$, where $c$ is the total number of words in the corpus.\n",
        "- In the bigram model, the parameters can be estimated as:\n",
        "$$p(u \\mid v) = \\frac{count(v, u)}{count(v)}$$\n",
        "- In the trigram model, the parameters can be estimated as:\n",
        "$$p(u \\mid w, v) = \\frac{count(w, v, u)}{count(w, v)}$$\n",
        "\n",
        "\n"
      ]
    },
    {
      "cell_type": "code",
      "metadata": {
        "id": "OWbs2a7SHrJE",
        "colab_type": "code",
        "colab": {
          "base_uri": "https://localhost:8080/",
          "height": 17
        },
        "outputId": "0f3231c5-1efc-44dd-e85d-55a020218419"
      },
      "source": [
        "%%javascript\n",
        "MathJax.Hub.Config({\n",
        "  TeX: { equationNumbers: { autoNumber: \"AMS\" } }\n",
        "});"
      ],
      "execution_count": 1,
      "outputs": [
        {
          "output_type": "display_data",
          "data": {
            "application/javascript": [
              "MathJax.Hub.Config({\n",
              "  TeX: { equationNumbers: { autoNumber: \"AMS\" } }\n",
              "});"
            ],
            "text/plain": [
              "<IPython.core.display.Javascript object>"
            ]
          },
          "metadata": {
            "tags": []
          }
        }
      ]
    },
    {
      "cell_type": "markdown",
      "metadata": {
        "colab_type": "text",
        "id": "C7dks8t0CdXW"
      },
      "source": [
        "### Smoothing the parameters\n",
        "Note, it is likely that many parameters of bigram and trigram models will be 0 because the relevant bigrams and trigrams involved do not appear in the corpus. If you don't have a way to handle these 0 probabilities, all the sentences that include such bigrams or trigrams will have probabilities of 0.\n",
        "\n",
        "We'll use a Add-k Smoothing method to fix this problem, the smoothed parameter can be estimated as:\n",
        "\\begin{equation}\n",
        "p_{add-k}(u)= \\frac{count(u)+k}{c+k|V^*|}\n",
        "\\end{equation}\n",
        "\\begin{equation}\n",
        "p_{add-k}(u \\mid v)= \\frac{count(v, u)+k}{count(v)+k|V^*|}\n",
        "\\end{equation}\n",
        "\\begin{equation}\n",
        "p_{add-k}(u \\mid w, v)= \\frac{count(w, v, u)+k}{count(w, v)+k|V^*|}\n",
        "\\end{equation}\n",
        "\n",
        "where $k \\in (0, 1)$ is the parameter of this approach, and $|V^*|$ is the size of the vocabulary $V^*$,here $V^*= V \\cup STOP$. One way to choose the value of $k$ is by\n",
        "optimizing the perplexity of the development set, namely to choose the value that minimizes the perplexity.\n",
        "\n"
      ]
    },
    {
      "cell_type": "markdown",
      "metadata": {
        "colab_type": "text",
        "id": "SNVha_8UCdXX"
      },
      "source": [
        "### Perplexity\n",
        "\n",
        "Given a test set $D^{\\prime}$ consisting of sentences $X^{(1)}, X^{(2)}, …, X^{(|D^{\\prime}|)}$, each sentence $X^{(j)}$ consists of words $x_1^{(j)}, x_2^{(j)},…,x_{n_j}^{(j)}$, we can measure the probability of each sentence $s_i$, and the quality of the language model would be the probability it assigns to the entire set of test sentences, namely:\n",
        "\\begin{equation} \n",
        "\\prod_j^{D^{\\prime}}p(X^{(j)})\n",
        "\\end{equation}\n",
        "Let's define average log2 probability as:\n",
        "\\begin{equation} \n",
        "l=\\frac{1}{c^{\\prime}}\\sum_{j=1}^{|D^{\\prime}|}log_2p(X^{(j)})\n",
        "\\end{equation}\n",
        "$c^{\\prime}$ is the total number of words in the test set, $D^{\\prime}$ is the number of sentences. And the perplexity is defined as:\n",
        "\\begin{equation} \n",
        "perplexity=2^{-l}\n",
        "\\end{equation}\n",
        "\n",
        "The lower the perplexity, the better the language model."
      ]
    },
    {
      "cell_type": "code",
      "metadata": {
        "id": "Fg_D6BM8HrJI",
        "colab_type": "code",
        "colab": {}
      },
      "source": [
        "from collections import Counter, namedtuple\n",
        "import itertools\n",
        "import numpy as np"
      ],
      "execution_count": 2,
      "outputs": []
    },
    {
      "cell_type": "code",
      "metadata": {
        "id": "gK2PYbMqHrJK",
        "colab_type": "code",
        "colab": {}
      },
      "source": [
        "with open('data/wikitext-2/wiki.train.tokens', 'r', encoding='utf8') as f:\n",
        "    text = f.readlines()\n",
        "    train_sents = [line.lower().strip('\\n').split() for line in text]\n",
        "    train_sents = [s for s in train_sents if len(s)>0 and s[0] != '=']"
      ],
      "execution_count": 3,
      "outputs": []
    },
    {
      "cell_type": "code",
      "metadata": {
        "id": "sgIFclhCHrJM",
        "colab_type": "code",
        "colab": {
          "base_uri": "https://localhost:8080/",
          "height": 54
        },
        "outputId": "ec39e129-a026-4c5e-8f03-4c3dbc4e92fb"
      },
      "source": [
        "print(train_sents[1])"
      ],
      "execution_count": 4,
      "outputs": [
        {
          "output_type": "stream",
          "text": [
            "['the', 'game', 'began', 'development', 'in', '2010', ',', 'carrying', 'over', 'a', 'large', 'portion', 'of', 'the', 'work', 'done', 'on', 'valkyria', 'chronicles', 'ii', '.', 'while', 'it', 'retained', 'the', 'standard', 'features', 'of', 'the', 'series', ',', 'it', 'also', 'underwent', 'multiple', 'adjustments', ',', 'such', 'as', 'making', 'the', 'game', 'more', '<unk>', 'for', 'series', 'newcomers', '.', 'character', 'designer', '<unk>', 'honjou', 'and', 'composer', 'hitoshi', 'sakimoto', 'both', 'returned', 'from', 'previous', 'entries', ',', 'along', 'with', 'valkyria', 'chronicles', 'ii', 'director', 'takeshi', 'ozawa', '.', 'a', 'large', 'team', 'of', 'writers', 'handled', 'the', 'script', '.', 'the', 'game', \"'s\", 'opening', 'theme', 'was', 'sung', 'by', 'may', \"'n\", '.']\n"
          ],
          "name": "stdout"
        }
      ]
    },
    {
      "cell_type": "markdown",
      "metadata": {
        "colab_type": "text",
        "id": "G0vxL-WpCdXX"
      },
      "source": [
        "### Question 1 [code][written]\n",
        "1. Implement the function **\"compute_ngram\"** that computes n-grams in the corpus.\n",
        " (Do not take the START and STOP symbols into consideration for now.) \n",
        " For n=1,2,3, the number of unique n-grams should be **28910/577343/1344047**, respectively.\n",
        "2. List 10 most frequent unigrams, bigrams and trigrams as well as their counts.(Hint: use the built-in function .most_common in Counter class)"
      ]
    },
    {
      "cell_type": "code",
      "metadata": {
        "colab_type": "code",
        "id": "TOyoT-QiCdXY",
        "colab": {}
      },
      "source": [
        "def compute_ngram(sents, n):\n",
        "    '''\n",
        "    Compute n-grams that appear in \"sents\".\n",
        "    param:\n",
        "        sents: list[list[str]] --- list of list of word strings\n",
        "        n: int --- \"n\" gram\n",
        "    return:\n",
        "        ngram_set: set{str} --- a set of n-grams (no duplicate elements)\n",
        "        ngram_dict: dict{ngram: counts} --- a dictionary that maps each ngram to its number occurence in \"sents\";\n",
        "        This dict contains the parameters of our ngram model. E.g. if n=2, ngram_dict={('a','b'):10, ('b','c'):13}\n",
        "        \n",
        "        You may need to use \"Counter\", \"tuple\" function here.\n",
        "    '''\n",
        "    ngram_set = set()\n",
        "    ngram_dict = {}\n",
        "    ### YOUR CODE HERE\n",
        "    for sentence in sents:\n",
        "        l = 0\n",
        "        for r in range(len(sentence)):\n",
        "            if r - l >= n-1:\n",
        "                ngram_set.add(tuple(sentence[l:r+1]))\n",
        "                ngram_dict[tuple(sentence[l:r+1])] = ngram_dict.get(tuple(sentence[l:r+1]), 0) + 1\n",
        "                l+=1\n",
        "    ### END OF YOUR CODE\n",
        "    return ngram_set, ngram_dict"
      ],
      "execution_count": 5,
      "outputs": []
    },
    {
      "cell_type": "code",
      "metadata": {
        "id": "isIrRfrCHrJR",
        "colab_type": "code",
        "colab": {
          "base_uri": "https://localhost:8080/",
          "height": 34
        },
        "outputId": "7c6b3c53-e5d2-4980-8d87-ba8a782a124f"
      },
      "source": [
        "### ~28xxx\n",
        "unigram_set, unigram_dict = compute_ngram(train_sents, 1)\n",
        "print(len(unigram_set))"
      ],
      "execution_count": 6,
      "outputs": [
        {
          "output_type": "stream",
          "text": [
            "28910\n"
          ],
          "name": "stdout"
        }
      ]
    },
    {
      "cell_type": "code",
      "metadata": {
        "id": "r5trltpEHrJT",
        "colab_type": "code",
        "colab": {
          "base_uri": "https://localhost:8080/",
          "height": 34
        },
        "outputId": "8494b0ba-3dc1-49a7-9ec3-7d2cde0698c2"
      },
      "source": [
        "### ~57xxxx\n",
        "bigram_set, bigram_dict = compute_ngram(train_sents, 2)\n",
        "print(len(bigram_set))"
      ],
      "execution_count": 7,
      "outputs": [
        {
          "output_type": "stream",
          "text": [
            "577343\n"
          ],
          "name": "stdout"
        }
      ]
    },
    {
      "cell_type": "code",
      "metadata": {
        "id": "VB1YxfZ_HrJV",
        "colab_type": "code",
        "colab": {
          "base_uri": "https://localhost:8080/",
          "height": 34
        },
        "outputId": "f97d8779-d8ee-43da-f337-3830d9a56535"
      },
      "source": [
        "### ~134xxxx\n",
        "trigram_set, trigram_dict = compute_ngram(train_sents, 3)\n",
        "print(len(trigram_set))"
      ],
      "execution_count": 8,
      "outputs": [
        {
          "output_type": "stream",
          "text": [
            "1344047\n"
          ],
          "name": "stdout"
        }
      ]
    },
    {
      "cell_type": "code",
      "metadata": {
        "id": "m7k0TYcdHrJX",
        "colab_type": "code",
        "colab": {}
      },
      "source": [
        "# List 10 most frequent unigrams, bigrams and trigrams as well as their counts."
      ],
      "execution_count": 9,
      "outputs": []
    },
    {
      "cell_type": "code",
      "metadata": {
        "id": "3vsMnnDCHrJZ",
        "colab_type": "code",
        "colab": {
          "base_uri": "https://localhost:8080/",
          "height": 187
        },
        "outputId": "93bb31ea-9124-4997-b8cc-84b13b2247ea"
      },
      "source": [
        "Counter(unigram_dict).most_common(10)"
      ],
      "execution_count": 10,
      "outputs": [
        {
          "output_type": "execute_result",
          "data": {
            "text/plain": [
              "[(('the',), 130519),\n",
              " ((',',), 99763),\n",
              " (('.',), 73388),\n",
              " (('of',), 56743),\n",
              " (('<unk>',), 53951),\n",
              " (('and',), 49940),\n",
              " (('in',), 44876),\n",
              " (('to',), 39462),\n",
              " (('a',), 36140),\n",
              " (('\"',), 28285)]"
            ]
          },
          "metadata": {
            "tags": []
          },
          "execution_count": 10
        }
      ]
    },
    {
      "cell_type": "code",
      "metadata": {
        "id": "8xuNSMU0HrJb",
        "colab_type": "code",
        "colab": {
          "base_uri": "https://localhost:8080/",
          "height": 187
        },
        "outputId": "5698c212-0325-4392-b9ca-5655ff1ab54e"
      },
      "source": [
        "Counter(bigram_dict).most_common(10)"
      ],
      "execution_count": 11,
      "outputs": [
        {
          "output_type": "execute_result",
          "data": {
            "text/plain": [
              "[(('of', 'the'), 17242),\n",
              " (('in', 'the'), 11778),\n",
              " ((',', 'and'), 11643),\n",
              " (('.', 'the'), 11274),\n",
              " ((',', 'the'), 8024),\n",
              " (('<unk>', ','), 7698),\n",
              " (('to', 'the'), 6009),\n",
              " (('on', 'the'), 4495),\n",
              " (('the', '<unk>'), 4389),\n",
              " (('and', 'the'), 4331)]"
            ]
          },
          "metadata": {
            "tags": []
          },
          "execution_count": 11
        }
      ]
    },
    {
      "cell_type": "code",
      "metadata": {
        "id": "1YwhM9USHrJd",
        "colab_type": "code",
        "colab": {
          "base_uri": "https://localhost:8080/",
          "height": 187
        },
        "outputId": "0299c6cc-d1f3-4bf3-9aed-fc57f90578ba"
      },
      "source": [
        "Counter(trigram_dict).most_common(10)"
      ],
      "execution_count": 12,
      "outputs": [
        {
          "output_type": "execute_result",
          "data": {
            "text/plain": [
              "[((',', 'and', 'the'), 1393),\n",
              " ((',', '<unk>', ','), 950),\n",
              " (('<unk>', ',', '<unk>'), 901),\n",
              " (('one', 'of', 'the'), 866),\n",
              " (('<unk>', ',', 'and'), 819),\n",
              " (('.', 'however', ','), 775),\n",
              " (('<unk>', '<unk>', ','), 745),\n",
              " (('.', 'in', 'the'), 726),\n",
              " (('.', 'it', 'was'), 698),\n",
              " (('the', 'united', 'states'), 666)]"
            ]
          },
          "metadata": {
            "tags": []
          },
          "execution_count": 12
        }
      ]
    },
    {
      "cell_type": "markdown",
      "metadata": {
        "colab_type": "text",
        "id": "PVpoDgU7CdXb"
      },
      "source": [
        "### Question 2 [code][written]\n",
        "In this part, we take the START and STOP symbols into consideration. So we need to pad the **train_sents** as described in \"Statistical Language Model\" before we apply \"compute_ngram\" function. For example, given a sentence \"I like NLP\", in a bigram model, we need to pad it as \"START I like NLP STOP\", in a trigram model, we need to pad it as \"START START I like NLP STOP\".\n",
        "\n",
        "1. Implement the ``pad_sents function``.\n",
        "2. Pad ``train_sents``.\n",
        "3. Apply ``compute_ngram`` function to these padded sents. \n",
        "4. Implement ``ngram_prob`` function. Compute the probability for each n-gram in the variable **ngrams** according to Eq.(1)(2)(3) in **\"smoothing the parameters\"** .List down the n-grams that have 0 probability. \n",
        "\n"
      ]
    },
    {
      "cell_type": "code",
      "metadata": {
        "id": "t02Q7YRBHrJf",
        "colab_type": "code",
        "colab": {
          "base_uri": "https://localhost:8080/",
          "height": 0
        },
        "outputId": "1fe99912-91af-4f1f-f96c-f93da66a283c"
      },
      "source": [
        "###############################################\n",
        "ngrams = list()\n",
        "with open(r'data/ngram.txt','r') as f:\n",
        "    for line in f:\n",
        "        ngrams.append(line.strip('\\n').split())\n",
        "print(ngrams)\n",
        "###############################################"
      ],
      "execution_count": 13,
      "outputs": [
        {
          "output_type": "stream",
          "text": [
            "[['the', 'computer'], ['go', 'to'], ['have', 'had'], ['and', 'the'], ['can', 'sea'], ['a', 'number', 'of'], ['with', 'respect', 'to'], ['in', 'terms', 'of'], ['not', 'good', 'bad'], ['first', 'start', 'with']]\n"
          ],
          "name": "stdout"
        }
      ]
    },
    {
      "cell_type": "code",
      "metadata": {
        "id": "DUiMu78BHrJg",
        "colab_type": "code",
        "colab": {}
      },
      "source": [
        "START = '<START>'\n",
        "STOP = '<STOP>'\n",
        "###################################\n",
        "def pad_sents(sents, n):\n",
        "    '''\n",
        "    Pad the sents according to n.\n",
        "    params:\n",
        "        sents: list[list[str]] --- list of sentences.\n",
        "        n: int --- specify the padding type, 1-gram, 2-gram, or 3-gram.\n",
        "    return:\n",
        "        padded_sents: list[list[str]] --- list of padded sentences.\n",
        "    '''\n",
        "    padded_sents = []\n",
        "    ### YOUR CODE HERE\n",
        "    for sentence in sents:\n",
        "        padded_sent = []\n",
        "        for _ in range(n-1):\n",
        "            padded_sent.append(START)\n",
        "        for word in sentence:\n",
        "            padded_sent.append(word)\n",
        "        if n-1 > 0:\n",
        "            padded_sent.append(STOP)\n",
        "        padded_sents.append(padded_sent)\n",
        "    ### END OF YOUR CODE\n",
        "    return padded_sents"
      ],
      "execution_count": 14,
      "outputs": []
    },
    {
      "cell_type": "code",
      "metadata": {
        "id": "CfXW90dkHrJi",
        "colab_type": "code",
        "colab": {}
      },
      "source": [
        "uni_sents = pad_sents(train_sents, 1)\n",
        "bi_sents = pad_sents(train_sents, 2)\n",
        "tri_sents = pad_sents(train_sents, 3)"
      ],
      "execution_count": 15,
      "outputs": []
    },
    {
      "cell_type": "code",
      "metadata": {
        "id": "QSlJkqEOHrJk",
        "colab_type": "code",
        "colab": {}
      },
      "source": [
        "unigram_set, unigram_dict = compute_ngram(uni_sents, 1)\n",
        "bigram_set, bigram_dict = compute_ngram(bi_sents, 2)\n",
        "trigram_set, trigram_dict = compute_ngram(tri_sents, 3)"
      ],
      "execution_count": 16,
      "outputs": []
    },
    {
      "cell_type": "code",
      "metadata": {
        "id": "Q3pMcWGgHrJm",
        "colab_type": "code",
        "colab": {
          "base_uri": "https://localhost:8080/",
          "height": 0
        },
        "outputId": "1a221458-31c1-43d2-9d30-0d2f4fe16959"
      },
      "source": [
        "### (28xxx, 58xxxx, 136xxxx)\n",
        "len(unigram_set),len(bigram_set),len(trigram_set)"
      ],
      "execution_count": 17,
      "outputs": [
        {
          "output_type": "execute_result",
          "data": {
            "text/plain": [
              "(28910, 580825, 1363266)"
            ]
          },
          "metadata": {
            "tags": []
          },
          "execution_count": 17
        }
      ]
    },
    {
      "cell_type": "code",
      "metadata": {
        "id": "LEk39T2tHrJo",
        "colab_type": "code",
        "colab": {
          "base_uri": "https://localhost:8080/",
          "height": 0
        },
        "outputId": "bcff3f4d-2cb5-4ffe-fa21-355b3181d0e9"
      },
      "source": [
        "### ~ 200xxxx; total number of words in wikitext-2.train\n",
        "num_words = sum([v for _,v in unigram_dict.items()])\n",
        "print(num_words)"
      ],
      "execution_count": 18,
      "outputs": [
        {
          "output_type": "stream",
          "text": [
            "2007146\n"
          ],
          "name": "stdout"
        }
      ]
    },
    {
      "cell_type": "code",
      "metadata": {
        "id": "oXZUb0hjHrJp",
        "colab_type": "code",
        "colab": {}
      },
      "source": [
        "def ngram_prob(ngram, num_words, unigram_dic, bigram_dic, trigram_dic):\n",
        "    '''\n",
        "    params:\n",
        "        ngram: list[str] --- a list that represents n-gram\n",
        "        num_words: int --- total number of words\n",
        "        unigram_dic: dict{ngram: counts} --- a dictionary that maps each 1-gram to its number of occurences in \"sents\";\n",
        "        bigram_dic: dict{ngram: counts} --- a dictionary that maps each 2-gram to its number of occurence in \"sents\";\n",
        "        trigram_dic: dict{ngram: counts} --- a dictionary that maps each 3-gram to its number occurence in \"sents\";\n",
        "    return:\n",
        "        prob: float --- probability of the \"ngram\"\n",
        "    '''\n",
        "    prob = None\n",
        "    ### YOUR CODE HERE\n",
        "    if len(ngram) == 1:\n",
        "        prob = unigram_dic[tuple(ngram)]/num_words\n",
        "    elif len(ngram) == 2:\n",
        "        prob = bigram_dic.get(tuple(ngram), 0)/unigram_dic.get(tuple([ngram[0]]), 1)\n",
        "    elif len(ngram) == 3:\n",
        "        prob = trigram_dic.get(tuple(ngram), 0)/bigram_dic.get(tuple([ngram[0],ngram[1]]), 1)\n",
        "    else:\n",
        "        prob = \"Not available\"\n",
        "    ### END OF YOUR CODE\n",
        "    return prob"
      ],
      "execution_count": 19,
      "outputs": []
    },
    {
      "cell_type": "code",
      "metadata": {
        "id": "1hmnpNLQHrJr",
        "colab_type": "code",
        "colab": {
          "base_uri": "https://localhost:8080/",
          "height": 0
        },
        "outputId": "8654aa28-d835-4562-e9b9-f1ccc75ebafd"
      },
      "source": [
        "### ~9.96e-05\n",
        "ngram_prob(ngrams[0], num_words, unigram_dict, bigram_dict, trigram_dict)"
      ],
      "execution_count": 20,
      "outputs": [
        {
          "output_type": "execute_result",
          "data": {
            "text/plain": [
              "9.960235674499498e-05"
            ]
          },
          "metadata": {
            "tags": []
          },
          "execution_count": 20
        }
      ]
    },
    {
      "cell_type": "code",
      "metadata": {
        "id": "Xj5WwBCzHrJt",
        "colab_type": "code",
        "colab": {
          "base_uri": "https://localhost:8080/",
          "height": 0
        },
        "outputId": "ecb98815-bba4-4fa2-d210-5ef438fcf835"
      },
      "source": [
        "len(ngrams[0])"
      ],
      "execution_count": 21,
      "outputs": [
        {
          "output_type": "execute_result",
          "data": {
            "text/plain": [
              "2"
            ]
          },
          "metadata": {
            "tags": []
          },
          "execution_count": 21
        }
      ]
    },
    {
      "cell_type": "code",
      "metadata": {
        "id": "V8eIFhLhHrJu",
        "colab_type": "code",
        "colab": {
          "base_uri": "https://localhost:8080/",
          "height": 0
        },
        "outputId": "c6c08f83-0489-49a9-f8dd-6aa741b43828"
      },
      "source": [
        "### List down the n-grams that have 0 probability. \n",
        "print(\"-\" * 20, \"n-grams that have 0 probability\", \"-\" * 20)\n",
        "\n",
        "for ngram in ngrams:\n",
        "    prob = ngram_prob(ngram, num_words, unigram_dict, bigram_dict, trigram_dict)\n",
        "    if prob <= 0:\n",
        "        print(ngram)"
      ],
      "execution_count": 22,
      "outputs": [
        {
          "output_type": "stream",
          "text": [
            "-------------------- n-grams that have 0 probability --------------------\n",
            "['can', 'sea']\n",
            "['not', 'good', 'bad']\n",
            "['first', 'start', 'with']\n"
          ],
          "name": "stdout"
        }
      ]
    },
    {
      "cell_type": "markdown",
      "metadata": {
        "colab_type": "text",
        "id": "2kAezpJ9CdXd"
      },
      "source": [
        "### Question 3 [code][written]\n",
        "\n",
        "1. Implement ``smooth_ngram_prob`` function to estimate ngram probability with ``add-k`` smoothing technique. Compute the smoothed probabilities of each n-gram in the variable **\"ngrams\"** according to Eq.(1)(2)(3) in **\"smoothing the parameters\"** section.\n",
        "2. Implement ``perplexity`` function to compute the perplexity of the corpus \"**valid_sents**\" according to the Equations (4),(5),(6) in **perplexity** section. The computation of $p(X^{(j)})$ depends on the n-gram model you choose. If you choose 2-gram model, then you need to calculate $p(X^{(j)})$ based on Eq.(2) in **smoothing the parameter** section. Hint: convert probability to log probability.\n",
        "3. Try out different $k\\in [0.1, 0.3, 0.5, 0.7, 0.9]$ and different n-gram model ($n=1,2,3$). Find the n-gram model and $k$ that gives the best perplexity on \"**valid_sents**\" (smaller is better)."
      ]
    },
    {
      "cell_type": "code",
      "metadata": {
        "id": "9VxZFQZWHrJw",
        "colab_type": "code",
        "colab": {}
      },
      "source": [
        "with open('data/wikitext-2/wiki.valid.tokens', 'r', encoding='utf8') as f:\n",
        "    text = f.readlines()\n",
        "    valid_sents = [line.lower().strip('\\n').split() for line in text]\n",
        "    valid_sents = [s for s in valid_sents if len(s)>0 and s[0] != '=']\n",
        "\n",
        "uni_valid_sents = pad_sents(valid_sents, 1)\n",
        "bi_valid_sents = pad_sents(valid_sents, 2)\n",
        "tri_valid_sents = pad_sents(valid_sents, 3)"
      ],
      "execution_count": 23,
      "outputs": []
    },
    {
      "cell_type": "code",
      "metadata": {
        "id": "FO6o-BT3HrJy",
        "colab_type": "code",
        "colab": {}
      },
      "source": [
        "def smooth_ngram_prob(ngram, k, num_words, unigram_dic, bigram_dic, trigram_dic):\n",
        "    '''\n",
        "    params:\n",
        "        ngram: list[str] --- a list that represents n-gram\n",
        "        k: float \n",
        "        num_words: int --- total number of words\n",
        "        unigram_dic: dict{ngram: counts} --- a dictionary that maps each 1-gram to its number of occurences in \"sents\";\n",
        "        bigram_dic: dict{ngram: counts} --- a dictionary that maps each 2-gram to its number of occurence in \"sents\";\n",
        "        trigram_dic: dict{ngram: counts} --- a dictionary that maps each 3-gram to its number occurence in \"sents\";\n",
        "    return:\n",
        "        s_prob: float --- probability of the \"ngram\"\n",
        "    '''\n",
        "    s_prob = 0\n",
        "    V = len(unigram_dic) + 1 \n",
        "    ### YOUR CODE HERE\\、\n",
        "    if len(ngram) == 1:\n",
        "        s_prob = (unigram_dic.get(tuple(ngram), 0) + k)/(num_words + k*V)\n",
        "    elif len(ngram) == 2:\n",
        "        s_prob = (bigram_dic.get(tuple(ngram), 0) + k)/(unigram_dic.get(tuple([ngram[0]]), 0) + k*V)\n",
        "    elif len(ngram) == 3:\n",
        "        s_prob = (trigram_dic.get(tuple(ngram), 0) + k)/(bigram_dic.get(tuple([ngram[0],ngram[1]]), 0) + k*V)\n",
        "    ### END OF YOUR CODE\n",
        "    return s_prob"
      ],
      "execution_count": 24,
      "outputs": []
    },
    {
      "cell_type": "code",
      "metadata": {
        "id": "QvqS9jNcHrJ0",
        "colab_type": "code",
        "colab": {
          "base_uri": "https://localhost:8080/",
          "height": 0
        },
        "outputId": "3aeda11f-b576-411c-93fa-bf4d57dc4d04"
      },
      "source": [
        "### ~ 9.31e-05\n",
        "smooth_ngram_prob(ngrams[0], 0.5, num_words, unigram_dict, bigram_dict, trigram_dict)"
      ],
      "execution_count": 25,
      "outputs": [
        {
          "output_type": "execute_result",
          "data": {
            "text/plain": [
              "9.311982452086402e-05"
            ]
          },
          "metadata": {
            "tags": []
          },
          "execution_count": 25
        }
      ]
    },
    {
      "cell_type": "code",
      "metadata": {
        "id": "e5LwfBdRHrJ2",
        "colab_type": "code",
        "colab": {}
      },
      "source": [
        "def perplexity(n, k, num_words, valid_sents, unigram_dic, bigram_dic, trigram_dic):\n",
        "    '''\n",
        "    compute the perplexity of valid_sents\n",
        "    params:\n",
        "        n: int --- n-gram model you choose. \n",
        "        k: float --- smoothing parameter.\n",
        "        num_words: int --- total number of words in the trainng set.\n",
        "        valid_sents: list[list[str]] --- list of sentences.\n",
        "        unigram_dic: dict{ngram: counts} --- a dictionary that maps each 1-gram to its number of occurences in \"sents\";\n",
        "        bigram_dic: dict{ngram: counts} --- a dictionary that maps each 2-gram to its number of occurence in \"sents\";\n",
        "        trigram_dic: dict{ngram: counts} --- a dictionary that maps each 3-gram to its number occurence in \"sents\";\n",
        "    return:\n",
        "        ppl: float --- perplexity of valid_sents\n",
        "    '''\n",
        "    ### YOUR CODE HERE\n",
        "    count, prob = 0, 0\n",
        "    for sentence in valid_sents:\n",
        "        l = 0\n",
        "        for r in range(len(sentence)):\n",
        "            count += 1\n",
        "            if r - l >= n-1:\n",
        "                prob += np.log(smooth_ngram_prob(sentence[l:r+1], k, num_words, unigram_dic, bigram_dic, trigram_dic)) / np.log(2)\n",
        "                l += 1\n",
        "    ppl = 2**(prob/count*-1)\n",
        "    ### END OF YOUR CODE\n",
        "    return ppl"
      ],
      "execution_count": 26,
      "outputs": []
    },
    {
      "cell_type": "code",
      "metadata": {
        "scrolled": false,
        "id": "85Lew9QpHrJ3",
        "colab_type": "code",
        "colab": {
          "base_uri": "https://localhost:8080/",
          "height": 0
        },
        "outputId": "35806f9a-aab0-458d-ac79-5057f9903c0d"
      },
      "source": [
        "### ~ 840\n",
        "perplexity(1, 0.1, num_words, uni_valid_sents, unigram_dict, bigram_dict, trigram_dict)"
      ],
      "execution_count": 27,
      "outputs": [
        {
          "output_type": "execute_result",
          "data": {
            "text/plain": [
              "840.7347306217125"
            ]
          },
          "metadata": {
            "tags": []
          },
          "execution_count": 27
        }
      ]
    },
    {
      "cell_type": "code",
      "metadata": {
        "id": "QFn5W3puHrJ5",
        "colab_type": "code",
        "colab": {
          "base_uri": "https://localhost:8080/",
          "height": 0
        },
        "outputId": "18f9e74c-e05a-4c4e-8790-ff58491a1dcd"
      },
      "source": [
        "n = [1,2,3]\n",
        "k = [0.1, 0.3, 0.5, 0.7, 0.9]\n",
        "### YOUR CODE HERE\n",
        "valid_sents_arr = [uni_valid_sents, bi_valid_sents, tri_valid_sents]\n",
        "best = {}\n",
        "for i in n:\n",
        "    for j in k:\n",
        "        ppl = perplexity(i, j, num_words, valid_sents_arr[i-1], unigram_dict, bigram_dict, trigram_dict)\n",
        "        if ppl < best.get('best', np.inf):\n",
        "            best['best'] = ppl\n",
        "            best['n'] = i\n",
        "            best['k'] = j\n",
        "print(best)\n",
        "### END OF YOUR CODE"
      ],
      "execution_count": 28,
      "outputs": [
        {
          "output_type": "stream",
          "text": [
            "{'best': 739.5817358293406, 'n': 2, 'k': 0.1}\n"
          ],
          "name": "stdout"
        }
      ]
    },
    {
      "cell_type": "markdown",
      "metadata": {
        "colab_type": "text",
        "id": "3o_yjh9lCdXg"
      },
      "source": [
        "### Question 4 [code]\n",
        "\n",
        "Evaluate the perplexity of the test data **test_sents** based on the best n-gram model and $k$ you have found on the validation data (Q 3.3)."
      ]
    },
    {
      "cell_type": "code",
      "metadata": {
        "colab_type": "code",
        "id": "i7hGcXgCCdXg",
        "colab": {}
      },
      "source": [
        "with open('data/wikitext-2/wiki.test.tokens', 'r', encoding='utf8') as f:\n",
        "    text = f.readlines()\n",
        "    test_sents = [line.lower().strip('\\n').split() for line in text]\n",
        "    test_sents = [s for s in test_sents if len(s)>0 and s[0] != '=']\n",
        "\n",
        "uni_test_sents = pad_sents(test_sents, 1)\n",
        "bi_test_sents = pad_sents(test_sents, 2)\n",
        "tri_test_sents = pad_sents(test_sents, 3)"
      ],
      "execution_count": 29,
      "outputs": []
    },
    {
      "cell_type": "code",
      "metadata": {
        "id": "fKu0Bc9yHrJ9",
        "colab_type": "code",
        "colab": {
          "base_uri": "https://localhost:8080/",
          "height": 0
        },
        "outputId": "bf4e1aed-c92a-47a1-efec-29ff8f9ffc3e"
      },
      "source": [
        "### YOUR CODE HERE\n",
        "perplexity(best['n'], best['k'], num_words, bi_test_sents, unigram_dict, bigram_dict, trigram_dict)\n",
        "### END OF YOUR CODE"
      ],
      "execution_count": 30,
      "outputs": [
        {
          "output_type": "execute_result",
          "data": {
            "text/plain": [
              "689.3929590954306"
            ]
          },
          "metadata": {
            "tags": []
          },
          "execution_count": 30
        }
      ]
    },
    {
      "cell_type": "markdown",
      "metadata": {
        "colab_type": "text",
        "collapsed": true,
        "id": "ePSI8RDWCdXj"
      },
      "source": [
        "## Neural Language Model (RNN)\n"
      ]
    },
    {
      "cell_type": "markdown",
      "metadata": {
        "colab_type": "text",
        "id": "jkoTco_jCdXj"
      },
      "source": [
        "<img src=\"LM.png\" alt=\"drawing\" style=\"width:500px;\"/>\n",
        "\n",
        "We will create a LSTM language model as shown in figure and train it on the Wikitext-2 dataset. \n",
        "The data generators (train\\_iter, valid\\_iter, test\\_iter) have been provided. \n",
        "The word embeddings together with the parameters in the LSTM model will be learned from scratch.\n",
        "\n",
        "[Pytorch](https://pytorch.org/tutorials/) and [torchtext](https://torchtext.readthedocs.io/en/latest/index.html#) are required in this part. Do not make any changes to the provided code unless you are requested to do so. "
      ]
    },
    {
      "cell_type": "markdown",
      "metadata": {
        "id": "UC7i7sqrHrJ_",
        "colab_type": "text"
      },
      "source": [
        "### Question 5 [code]\n",
        "- Implement the ``__init__`` function in ``LangModel`` class.\n",
        "- Implement the ``forward`` function in ``LangModel`` class.\n",
        "- Complete the training code in ``train`` function.\n",
        "    Then complete the testing code in  ``test`` function and \n",
        "    compute the perplexity of the test data ``test_iter``. The test perplexity should be below 150."
      ]
    },
    {
      "cell_type": "code",
      "metadata": {
        "colab_type": "code",
        "id": "tF2GCRdFCdXk",
        "colab": {
          "base_uri": "https://localhost:8080/",
          "height": 68
        },
        "outputId": "b4851df6-21bd-4456-8256-ceb3f6a32bea"
      },
      "source": [
        "import torchtext\n",
        "import torch\n",
        "import torch.nn.functional as F\n",
        "from torchtext.datasets import WikiText2\n",
        "from torch import nn, optim\n",
        "from torchtext import data\n",
        "from nltk import word_tokenize\n",
        "import nltk\n",
        "nltk.download('punkt')\n",
        "torch.manual_seed(222)"
      ],
      "execution_count": 31,
      "outputs": [
        {
          "output_type": "stream",
          "text": [
            "[nltk_data] Downloading package punkt to /root/nltk_data...\n",
            "[nltk_data]   Unzipping tokenizers/punkt.zip.\n"
          ],
          "name": "stdout"
        },
        {
          "output_type": "execute_result",
          "data": {
            "text/plain": [
              "<torch._C.Generator at 0x7f2aecefe7b0>"
            ]
          },
          "metadata": {
            "tags": []
          },
          "execution_count": 31
        }
      ]
    },
    {
      "cell_type": "code",
      "metadata": {
        "colab_type": "code",
        "id": "lt6JBdSnCdXn",
        "colab": {
          "base_uri": "https://localhost:8080/",
          "height": 68
        },
        "outputId": "2527f236-0870-4cf3-e798-35c03e751e43"
      },
      "source": [
        "def tokenizer(text):\n",
        "    '''Tokenize a string to words'''\n",
        "    return word_tokenize(text)\n",
        "\n",
        "START = '<START>'\n",
        "STOP = '<STOP>'\n",
        "#Load and split data into three parts\n",
        "TEXT = data.Field(lower=True, tokenize=tokenizer, init_token=START, eos_token=STOP)\n",
        "train, valid, test = WikiText2.splits(TEXT) "
      ],
      "execution_count": 32,
      "outputs": [
        {
          "output_type": "stream",
          "text": [
            "downloading wikitext-2-v1.zip\n"
          ],
          "name": "stdout"
        },
        {
          "output_type": "stream",
          "text": [
            "wikitext-2-v1.zip: 100%|██████████| 4.48M/4.48M [00:00<00:00, 5.65MB/s]\n"
          ],
          "name": "stderr"
        },
        {
          "output_type": "stream",
          "text": [
            "extracting\n"
          ],
          "name": "stdout"
        }
      ]
    },
    {
      "cell_type": "code",
      "metadata": {
        "colab_type": "code",
        "id": "KHwu4VMVCdXq",
        "colab": {
          "base_uri": "https://localhost:8080/",
          "height": 34
        },
        "outputId": "e1576c90-31a0-4f75-f996-8e73122f7db7"
      },
      "source": [
        "#Build a vocabulary from the train dataset\n",
        "TEXT.build_vocab(train)\n",
        "print('Vocabulary size:', len(TEXT.vocab))"
      ],
      "execution_count": 33,
      "outputs": [
        {
          "output_type": "stream",
          "text": [
            "Vocabulary size: 28908\n"
          ],
          "name": "stdout"
        }
      ]
    },
    {
      "cell_type": "code",
      "metadata": {
        "colab_type": "code",
        "id": "ua9e-OBMCdXs",
        "colab": {}
      },
      "source": [
        "BATCH_SIZE = 64\n",
        "# the length of a piece of text feeding to the RNN layer\n",
        "BPTT_LEN = 32           \n",
        "# train, validation, test data\n",
        "train_iter, valid_iter, test_iter = data.BPTTIterator.splits((train, valid, test),\n",
        "                                                                batch_size=BATCH_SIZE,\n",
        "                                                                bptt_len=BPTT_LEN,\n",
        "                                                                repeat=False)"
      ],
      "execution_count": 34,
      "outputs": []
    },
    {
      "cell_type": "code",
      "metadata": {
        "colab_type": "code",
        "id": "6_Cd8shXCdXy",
        "scrolled": true,
        "colab": {
          "base_uri": "https://localhost:8080/",
          "height": 51
        },
        "outputId": "720d679f-810a-4009-c5cb-abfd3143cb42"
      },
      "source": [
        "#Generate a batch of train data\n",
        "batch = next(iter(train_iter))\n",
        "text, target = batch.text, batch.target\n",
        "# print(batch.dataset[0].text[:32])\n",
        "# print(text[0:3],target[:3])\n",
        "print('Size of text tensor',text.size())\n",
        "print('Size of target tensor',target.size())"
      ],
      "execution_count": 35,
      "outputs": [
        {
          "output_type": "stream",
          "text": [
            "Size of text tensor torch.Size([32, 64])\n",
            "Size of target tensor torch.Size([32, 64])\n"
          ],
          "name": "stdout"
        }
      ]
    },
    {
      "cell_type": "code",
      "metadata": {
        "id": "-sygQsBIHrKI",
        "colab_type": "code",
        "colab": {}
      },
      "source": [
        "class LangModel(nn.Module):\n",
        "    def __init__(self, lang_config):\n",
        "        super(LangModel, self).__init__()\n",
        "        self.vocab_size = lang_config['vocab_size']\n",
        "        self.emb_size = lang_config['emb_size']\n",
        "        self.hidden_size = lang_config['hidden_size']\n",
        "        self.num_layer = lang_config['num_layer']\n",
        "        \n",
        "        ### TODO: \n",
        "        ###    1. Initialize 'self.embedding' with nn.Embedding function and \n",
        "        ###       2 variables we have initialized for you\n",
        "        ###    2. Initialize 'self.rnn' with nn.LSTM function and 3 variables we \n",
        "        ###       have initialized for you\n",
        "        ###    3. Initialize 'self.linear' with nn.Linear function and 2 variables \n",
        "        ###       we have initialized for you\n",
        "        ### Reference:\n",
        "        ###        https://pytorch.org/docs/stable/nn.html\n",
        "        \n",
        "        ### YOUR CODE HERE (3 lines)\n",
        "        self.embedding = nn.Embedding(self.vocab_size, self.emb_size)\n",
        "        self.rnn = nn.LSTM(self.emb_size, self.hidden_size, self.num_layer)\n",
        "        self.linear = nn.Linear(self.hidden_size, self.vocab_size)\n",
        "        ### END OF YOUR CODE\n",
        "        \n",
        "    def forward(self, batch_sents, hidden=None):\n",
        "        '''\n",
        "        params:\n",
        "            batch_sents: torch.LongTensor of shape (sequence_len, batch_size)\n",
        "        return:\n",
        "            normalized_score: torch.FloatTensor of shape (sequence_len, batch_size, vocab_size)\n",
        "        '''\n",
        "        normalized_score = None\n",
        "        hidden = hidden\n",
        "        ### TODO:\n",
        "        ###      1. Feed the batch_sents to self.embedding  \n",
        "        ###      2. Feed the embeddings to self.rnn. Remember to pass \"hidden\" into \n",
        "        ###         self.rnn, even if it is None. But we will \n",
        "        ###         use \"hidden\" when implementing greedy search.\n",
        "        ###      3. Apply linear transformation to the output of self.rnn\n",
        "        ###      4. Apply 'F.log_softmax' to the output of linear transformation\n",
        "        ###\n",
        "        ### YOUR CODE HERE \n",
        "        embeddings = self.embedding(batch_sents)\n",
        "        output, hidden = self.rnn(embeddings, hidden)\n",
        "        output = self.linear(output)\n",
        "        normalized_score = F.log_softmax(output, dim=2)\n",
        "        ### END OF YOUR CODE\n",
        "        return normalized_score, hidden"
      ],
      "execution_count": 36,
      "outputs": []
    },
    {
      "cell_type": "code",
      "metadata": {
        "id": "NW2u5sP9HrKJ",
        "colab_type": "code",
        "colab": {}
      },
      "source": [
        "def train(model, train_iter, valid_iter, vocab_size, criterion, optimizer, num_epochs):\n",
        "    for n in range(num_epochs):\n",
        "        train_loss = 0\n",
        "        target_num = 0\n",
        "        model.train()\n",
        "        for batch in train_iter:\n",
        "            \n",
        "            text, targets = batch.text.to(device), batch.target.to(device)\n",
        "            \n",
        "            ### we don't consider \"hidden\" here. So according to the \n",
        "            ### default setting, \"hidden\" will be None\n",
        "            ### YOU CODE HERE (~5 lines)\n",
        "            optimizer.zero_grad()\n",
        "            prediction, _ = model(text)\n",
        "            loss = criterion(prediction.view(-1, vocab_size), targets.view(-1))\n",
        "            loss.backward()\n",
        "            optimizer.step()\n",
        "            ### END OF YOUR CODE\n",
        "            ##########################################\n",
        "            train_loss += loss.item() * targets.size(0) * targets.size(1)\n",
        "            target_num += targets.size(0) * targets.size(1)\n",
        "\n",
        "        train_loss /= target_num\n",
        "\n",
        "        # monitor the loss of all the predictions\n",
        "        val_loss = 0\n",
        "        target_num = 0\n",
        "        model.eval()\n",
        "        for batch in valid_iter:\n",
        "            text, targets = batch.text.to(device), batch.target.to(device)\n",
        "            \n",
        "            prediction, _ = model(text)\n",
        "            loss = criterion(prediction.view(-1, vocab_size), targets.view(-1))\n",
        "            \n",
        "            val_loss += loss.item() * targets.size(0) * targets.size(1)\n",
        "            target_num += targets.size(0) * targets.size(1)\n",
        "        val_loss /= target_num\n",
        "\n",
        "        print('Epoch: {}, Training Loss: {:.4f}, Validation Loss: {:.4f}'.format(n+1, train_loss, val_loss))            "
      ],
      "execution_count": 37,
      "outputs": []
    },
    {
      "cell_type": "code",
      "metadata": {
        "id": "r6WmrAynHrKL",
        "colab_type": "code",
        "colab": {}
      },
      "source": [
        "import math\n",
        "\n",
        "def test(model, vocab_size, criterion, test_iter):\n",
        "    '''\n",
        "    params: \n",
        "        model: LSTM model\n",
        "        test_iter: test data\n",
        "    return:\n",
        "        ppl: perplexity \n",
        "    '''\n",
        "    test_loss = 0\n",
        "    target_num = 0\n",
        "    with torch.no_grad():\n",
        "        for batch in test_iter:\n",
        "            text, targets = batch.text.to(device), batch.target.to(device)\n",
        "\n",
        "            prediction, _ = model(text)\n",
        "            loss = criterion(prediction.view(-1, vocab_size), targets.view(-1))\n",
        "\n",
        "            test_loss += loss.item() * targets.size(0) * targets.size(1)\n",
        "            target_num += targets.size(0) * targets.size(1)\n",
        "\n",
        "        test_loss /= target_num\n",
        "        \n",
        "        ### Compute perplexity according to \"test_loss\"\n",
        "        ### Hint: Consider how the loss is computed.\n",
        "        ### YOUR CODE HERE(1 line)\n",
        "        ppl = math.exp(test_loss)\n",
        "        ### END OF YOUR CODE\n",
        "        return ppl"
      ],
      "execution_count": 38,
      "outputs": []
    },
    {
      "cell_type": "code",
      "metadata": {
        "id": "0nraZwqSHrKM",
        "colab_type": "code",
        "colab": {}
      },
      "source": [
        "num_epochs=10\n",
        "device = torch.device(\"cuda\" if torch.cuda.is_available() else \"cpu\")\n",
        "vocab_size = len(TEXT.vocab)\n",
        "\n",
        "config = {'vocab_size':vocab_size,\n",
        "         'emb_size':128,\n",
        "         'hidden_size':128,\n",
        "         'num_layer':1}\n",
        "\n",
        "LM = LangModel(config)\n",
        "LM = LM.to(device)\n",
        "\n",
        "criterion = nn.NLLLoss(reduction='mean')\n",
        "optimizer = optim.Adam(LM.parameters(), lr=1e-3, betas=(0.7, 0.99))"
      ],
      "execution_count": 39,
      "outputs": []
    },
    {
      "cell_type": "code",
      "metadata": {
        "id": "ML2iGEK3HrKO",
        "colab_type": "code",
        "colab": {
          "base_uri": "https://localhost:8080/",
          "height": 187
        },
        "outputId": "c9c65427-ab29-4c8b-f20f-a5c1a52b0501"
      },
      "source": [
        "train(LM, train_iter, valid_iter, vocab_size, criterion, optimizer, num_epochs)"
      ],
      "execution_count": 40,
      "outputs": [
        {
          "output_type": "stream",
          "text": [
            "Epoch: 1, Training Loss: 6.0691, Validation Loss: 5.1777\n",
            "Epoch: 2, Training Loss: 5.4015, Validation Loss: 4.9643\n",
            "Epoch: 3, Training Loss: 5.1293, Validation Loss: 4.8661\n",
            "Epoch: 4, Training Loss: 4.9561, Validation Loss: 4.8139\n",
            "Epoch: 5, Training Loss: 4.8310, Validation Loss: 4.7835\n",
            "Epoch: 6, Training Loss: 4.7311, Validation Loss: 4.7638\n",
            "Epoch: 7, Training Loss: 4.6476, Validation Loss: 4.7500\n",
            "Epoch: 8, Training Loss: 4.5765, Validation Loss: 4.7421\n",
            "Epoch: 9, Training Loss: 4.5150, Validation Loss: 4.7385\n",
            "Epoch: 10, Training Loss: 4.4606, Validation Loss: 4.7391\n"
          ],
          "name": "stdout"
        }
      ]
    },
    {
      "cell_type": "code",
      "metadata": {
        "id": "B06TtMz-HrKQ",
        "colab_type": "code",
        "colab": {
          "base_uri": "https://localhost:8080/",
          "height": 34
        },
        "outputId": "aa6b4300-d891-4585-a1ba-151f2fc40ddb"
      },
      "source": [
        "# < 150\n",
        "test(LM, vocab_size, criterion, test_iter)"
      ],
      "execution_count": 41,
      "outputs": [
        {
          "output_type": "execute_result",
          "data": {
            "text/plain": [
              "99.14565658706458"
            ]
          },
          "metadata": {
            "tags": []
          },
          "execution_count": 41
        }
      ]
    },
    {
      "cell_type": "markdown",
      "metadata": {
        "id": "HxZoUsLxHrKT",
        "colab_type": "text"
      },
      "source": [
        "### Question 6 [code]\n",
        "When we use trained language model to generate a sentence given a start token, we can choose either ``greedy search`` or ``beam search``. \n",
        "<img src=\"greedy.png\" alt=\"drawing\" style=\"width:500px;\"/>\n",
        "\n",
        "As shown above, ``greedy search`` algorithm will pick the token which has the highest probability and feed it to the language model as input in the next time step. The model will generate ``max_len`` number of tokens at most.\n",
        "\n",
        "- Implement ``word_greedy_search``\n",
        "- **[optional]** Implement ``word_beam_search`` "
      ]
    },
    {
      "cell_type": "code",
      "metadata": {
        "id": "em_HPNPjHrKT",
        "colab_type": "code",
        "colab": {}
      },
      "source": [
        "def word_greedy_search(model, start_token, max_len):\n",
        "    '''\n",
        "    param:\n",
        "        model: nn.Module --- language model\n",
        "        start_token: str --- e.g. 'he'\n",
        "        max_len: int --- max number of tokens generated\n",
        "    return:\n",
        "        strings: list[str] --- list of tokens, e.g., ['he', 'was', 'a', 'member', 'of',...]\n",
        "    '''\n",
        "    model.eval()\n",
        "    ID = TEXT.vocab.stoi[start_token]\n",
        "    strings = [start_token]\n",
        "    \n",
        "    ### You may find TEXT.vocab.itos useful.\n",
        "    ### YOUR CODE HERE\n",
        "    text = torch.LongTensor([[ID]]).to(device)\n",
        "    output, hidden = model(text)\n",
        "    ID =  torch.argmax(output)\n",
        "    strings.append(TEXT.vocab.itos[ID.item()])\n",
        "\n",
        "    end = TEXT.vocab.stoi[\"<eos>\"]\n",
        "    i = 1\n",
        "    while i < max_len and ID.item() != end:\n",
        "        text = torch.LongTensor([[ID]]).to(device)\n",
        "        output, hidden = model(text, hidden)\n",
        "        ID = torch.argmax(output)\n",
        "        strings.append(TEXT.vocab.itos[ID.item()])\n",
        "        i += 1\n",
        "    ### END OF YOUR CODE \n",
        "    return strings"
      ],
      "execution_count": 42,
      "outputs": []
    },
    {
      "cell_type": "code",
      "metadata": {
        "id": "pS_ch9p4HrKU",
        "colab_type": "code",
        "colab": {}
      },
      "source": [
        "# BeamNode = namedtuple('BeamNode', ['prev_node', 'prev_hidden', 'wordID', 'score', 'length'])\n",
        "# LMNode = namedtuple('LMNode', ['sent', 'score'])\n",
        "\n",
        "def word_beam_search(model, start_token, max_len, beam_size):\n",
        "    pass"
      ],
      "execution_count": 43,
      "outputs": []
    },
    {
      "cell_type": "code",
      "metadata": {
        "id": "BdAXJbz-HrKc",
        "colab_type": "code",
        "colab": {
          "base_uri": "https://localhost:8080/",
          "height": 34
        },
        "outputId": "d8b6e84e-fd94-4179-d454-f24ebe921859"
      },
      "source": [
        "word_greedy_search(LM, 'he', 64)"
      ],
      "execution_count": 44,
      "outputs": [
        {
          "output_type": "execute_result",
          "data": {
            "text/plain": [
              "['he', 'was', 'a', 'member', 'of', 'the', '<', 'unk', '>', '.', '<eos>']"
            ]
          },
          "metadata": {
            "tags": []
          },
          "execution_count": 44
        }
      ]
    },
    {
      "cell_type": "code",
      "metadata": {
        "id": "EL9PkRIJHrKd",
        "colab_type": "code",
        "colab": {}
      },
      "source": [
        "word_beam_search(LM, 'he', 64, 1)"
      ],
      "execution_count": 45,
      "outputs": []
    },
    {
      "cell_type": "markdown",
      "metadata": {
        "id": "p8_DWkYkHrKf",
        "colab_type": "text"
      },
      "source": [
        "# char-level LM"
      ]
    },
    {
      "cell_type": "markdown",
      "metadata": {
        "id": "fS1zJjOmHrKf",
        "colab_type": "text"
      },
      "source": [
        "### Question 7 [code]\n",
        "- Implement ``char_tokenizer``\n",
        "- Implement ``CharLangModel``, ``char_train``, ``char_test``\n",
        "- Implement ``char_greedy_search``"
      ]
    },
    {
      "cell_type": "code",
      "metadata": {
        "id": "EaV2hCrmHrKf",
        "colab_type": "code",
        "colab": {}
      },
      "source": [
        "def char_tokenizer(string):\n",
        "    '''\n",
        "    param:\n",
        "        string: str --- e.g. \"I love this assignment\"\n",
        "    return:\n",
        "        char_list: list[str] --- e.g. ['I', 'l', 'o', 'v', 'e', ' ', 't', 'h', 'i', 's', ...]\n",
        "    '''\n",
        "    ### YOUR CODE HERE\n",
        "    char_list = list(string)\n",
        "    ### END OF YOUR CODE\n",
        "    return char_list"
      ],
      "execution_count": 46,
      "outputs": []
    },
    {
      "cell_type": "code",
      "metadata": {
        "id": "k2dINUpGHrKg",
        "colab_type": "code",
        "colab": {
          "base_uri": "https://localhost:8080/",
          "height": 34
        },
        "outputId": "2bf06841-3ef7-4dda-dcf4-6db80ff71496"
      },
      "source": [
        "test_str = 'test test test'\n",
        "char_tokenizer(test_str)"
      ],
      "execution_count": 47,
      "outputs": [
        {
          "output_type": "execute_result",
          "data": {
            "text/plain": [
              "['t', 'e', 's', 't', ' ', 't', 'e', 's', 't', ' ', 't', 'e', 's', 't']"
            ]
          },
          "metadata": {
            "tags": []
          },
          "execution_count": 47
        }
      ]
    },
    {
      "cell_type": "code",
      "metadata": {
        "id": "0mesuXolHrKi",
        "colab_type": "code",
        "colab": {}
      },
      "source": [
        "CHAR_TEXT = data.Field(lower=True, tokenize=char_tokenizer ,init_token='<START>', eos_token='<STOP>')\n",
        "ctrain, cvalid, ctest = WikiText2.splits(CHAR_TEXT)  "
      ],
      "execution_count": 48,
      "outputs": []
    },
    {
      "cell_type": "code",
      "metadata": {
        "id": "-tF5C2JZHrKj",
        "colab_type": "code",
        "colab": {
          "base_uri": "https://localhost:8080/",
          "height": 34
        },
        "outputId": "23686d4b-a31a-4b91-e7a7-0399f945b719"
      },
      "source": [
        "CHAR_TEXT.build_vocab(ctrain)\n",
        "print('Vocabulary size:', len(CHAR_TEXT.vocab))"
      ],
      "execution_count": 49,
      "outputs": [
        {
          "output_type": "stream",
          "text": [
            "Vocabulary size: 247\n"
          ],
          "name": "stdout"
        }
      ]
    },
    {
      "cell_type": "code",
      "metadata": {
        "id": "0uDe9ZkAHrKm",
        "colab_type": "code",
        "colab": {}
      },
      "source": [
        "BATCH_SIZE = 32\n",
        "# the length of a piece of text feeding to the RNN layer\n",
        "BPTT_LEN = 128        \n",
        "# train, validation, test data\n",
        "ctrain_iter, cvalid_iter, ctest_iter = data.BPTTIterator.splits((ctrain, cvalid, ctest),\n",
        "                                                                batch_size=BATCH_SIZE,\n",
        "                                                                bptt_len=BPTT_LEN,\n",
        "                                                                repeat=False)"
      ],
      "execution_count": 50,
      "outputs": []
    },
    {
      "cell_type": "code",
      "metadata": {
        "id": "nO3Y7J_LHrKn",
        "colab_type": "code",
        "colab": {}
      },
      "source": [
        "class CharLangModel(nn.Module):\n",
        "    def __init__(self, lang_config):\n",
        "        ### YOUR CODE HERE\n",
        "        super(CharLangModel, self).__init__()\n",
        "        self.vocab_size = lang_config['vocab_size']\n",
        "        self.emb_size = lang_config[\"emb_size\"]\n",
        "        self.hidden_size = lang_config[\"hidden_size\"]\n",
        "        self.num_layer = lang_config[\"num_layer\"]\n",
        "\n",
        "        self.embedding = nn.Embedding(self.vocab_size, self.emb_size)\n",
        "        self.rnn = nn.LSTM(self.emb_size, self.hidden_size, self.num_layer)\n",
        "        self.linear = nn.Linear(self.hidden_size, self.vocab_size)\n",
        "        \n",
        "    def forward(self, batch_sents, hidden=None):\n",
        "        ### YOUR CODE HERE\n",
        "        embeddings = self.embedding(batch_sents)\n",
        "        output, hidden = self.rnn(embeddings, hidden)\n",
        "        output = self.linear(output)\n",
        "        normalized_score = F.log_softmax(output, dim=2)\n",
        "        return normalized_score, hidden\n"
      ],
      "execution_count": 51,
      "outputs": []
    },
    {
      "cell_type": "code",
      "metadata": {
        "id": "Z65d-8p-HrKq",
        "colab_type": "code",
        "colab": {}
      },
      "source": [
        "def char_train(model, train_iter, valid_iter, criterion, optimizer, vocab_size, num_epochs):\n",
        "    ### YOUR CODE HERE\n",
        "    for n in range(num_epochs):\n",
        "        train_loss = 0\n",
        "        target_num = 0\n",
        "        model.train()\n",
        "        for batch in train_iter:\n",
        "            text, targets = batch.text.to(device), batch.target.to(device)\n",
        "            \n",
        "            optimizer.zero_grad()\n",
        "            output, _ = model(text)\n",
        "            loss = criterion(output.view(-1, vocab_size), targets.view(-1))\n",
        "            loss.backward()\n",
        "            optimizer.step()\n",
        "            train_loss += loss.item() * targets.size(0) * targets.size(1)\n",
        "            target_num += targets.size(0) * targets.size(1)\n",
        "\n",
        "        train_loss /= target_num\n",
        "        val_loss = 0\n",
        "        target_num = 0\n",
        "        model.eval()\n",
        "        for batch in valid_iter:\n",
        "            text, targets = batch.text.to(device), batch.target.to(device)\n",
        "\n",
        "            prediction, _ = model(text)\n",
        "            loss = criterion(prediction.view(-1, vocab_size), targets.view(-1))\n",
        "            \n",
        "            val_loss += loss.item() * targets.size(0) * targets.size(1)\n",
        "            target_num += targets.size(0) * targets.size(1)\n",
        "        val_loss /= target_num\n",
        "\n",
        "        print('Epoch: {}, Training Loss: {:.4f}, Validation Loss: {:.4f}'.format(n+1, train_loss, val_loss))"
      ],
      "execution_count": 52,
      "outputs": []
    },
    {
      "cell_type": "code",
      "metadata": {
        "id": "kMnv4b50HrKs",
        "colab_type": "code",
        "colab": {}
      },
      "source": [
        "def char_test(model, vocab_size, test_iter, criterion):\n",
        "    ### YOUR CODE HERE\n",
        "    ppl = None\n",
        "    test_loss = 0\n",
        "    target_num = 0\n",
        "    with torch.no_grad():\n",
        "        for batch in test_iter:\n",
        "            text, targets = batch.text.to(device), batch.target.to(device)\n",
        "\n",
        "            prediction, _ = model(text)\n",
        "            loss = criterion(prediction.view(-1, vocab_size), targets.view(-1))\n",
        "\n",
        "            test_loss += loss.item() * targets.size(0) * targets.size(1)\n",
        "            target_num += targets.size(0) * targets.size(1)\n",
        "\n",
        "        test_loss /= target_num\n",
        "\n",
        "        ppl = math.exp(test_loss)\n",
        "        return ppl"
      ],
      "execution_count": 53,
      "outputs": []
    },
    {
      "cell_type": "code",
      "metadata": {
        "id": "cxztx6THHrKt",
        "colab_type": "code",
        "colab": {}
      },
      "source": [
        "num_epochs=10\n",
        "device = torch.device(\"cuda\" if torch.cuda.is_available() else \"cpu\")\n",
        "char_vocab_size = len(CHAR_TEXT.vocab)\n",
        "\n",
        "config = {'vocab_size':char_vocab_size,\n",
        "         'emb_size':128,\n",
        "         'hidden_size':128,\n",
        "         'num_layer':1}\n",
        "\n",
        "CLM = CharLangModel(config)\n",
        "CLM = CLM.to(device)\n",
        "\n",
        "char_criterion = nn.NLLLoss(reduction='mean')\n",
        "char_optimizer = optim.Adam(CLM.parameters(), lr=1e-3, betas=(0.7, 0.99))"
      ],
      "execution_count": 54,
      "outputs": []
    },
    {
      "cell_type": "code",
      "metadata": {
        "id": "58ASwioeHrKw",
        "colab_type": "code",
        "colab": {
          "base_uri": "https://localhost:8080/",
          "height": 187
        },
        "outputId": "be8692da-4646-4a13-8785-15cb53e9cdae"
      },
      "source": [
        "char_train(CLM, ctrain_iter, cvalid_iter, char_criterion, char_optimizer, char_vocab_size, num_epochs)"
      ],
      "execution_count": 55,
      "outputs": [
        {
          "output_type": "stream",
          "text": [
            "Epoch: 1, Training Loss: 1.8418, Validation Loss: 1.5487\n",
            "Epoch: 2, Training Loss: 1.5469, Validation Loss: 1.4422\n",
            "Epoch: 3, Training Loss: 1.4730, Validation Loss: 1.3966\n",
            "Epoch: 4, Training Loss: 1.4354, Validation Loss: 1.3714\n",
            "Epoch: 5, Training Loss: 1.4115, Validation Loss: 1.3548\n",
            "Epoch: 6, Training Loss: 1.3946, Validation Loss: 1.3425\n",
            "Epoch: 7, Training Loss: 1.3818, Validation Loss: 1.3323\n",
            "Epoch: 8, Training Loss: 1.3713, Validation Loss: 1.3239\n",
            "Epoch: 9, Training Loss: 1.3628, Validation Loss: 1.3170\n",
            "Epoch: 10, Training Loss: 1.3559, Validation Loss: 1.3114\n"
          ],
          "name": "stdout"
        }
      ]
    },
    {
      "cell_type": "code",
      "metadata": {
        "id": "6d4pgek1HrKx",
        "colab_type": "code",
        "colab": {
          "base_uri": "https://localhost:8080/",
          "height": 34
        },
        "outputId": "934cd4a3-8215-4e97-9661-cc53e8324915"
      },
      "source": [
        "# <10\n",
        "char_test(CLM, char_vocab_size, ctest_iter, char_criterion)"
      ],
      "execution_count": 56,
      "outputs": [
        {
          "output_type": "execute_result",
          "data": {
            "text/plain": [
              "3.685492545227015"
            ]
          },
          "metadata": {
            "tags": []
          },
          "execution_count": 56
        }
      ]
    },
    {
      "cell_type": "code",
      "metadata": {
        "id": "Kyf_4guYHrKy",
        "colab_type": "code",
        "colab": {}
      },
      "source": [
        "def char_greedy_search(model, start_token, max_len):\n",
        "    '''\n",
        "    param:\n",
        "        model: nn.Module --- language model\n",
        "        start_token: str --- e.g. 'h'\n",
        "        max_len: int --- max number of tokens generated\n",
        "    return:\n",
        "        strings: list[str] --- list of tokens, e.g., ['h', 'e', ' ', 'i', 's',...]\n",
        "    '''   \n",
        "    model.eval()\n",
        "    ID = CHAR_TEXT.vocab.stoi[start_token]\n",
        "    strings = [start_token]\n",
        "    \n",
        "    ### You may find CHAR_TEXT.vocab.itos useful.\n",
        "    ### YOUR CODE HERE\n",
        "    char = torch.LongTensor([[ID]]).to(device)\n",
        "    output, hidden = model(char)\n",
        "    ID =  torch.argmax(output)\n",
        "    strings.append(CHAR_TEXT.vocab.itos[ID.item()])\n",
        "\n",
        "    end = CHAR_TEXT.vocab.stoi[\"<eos>\"]\n",
        "    i = 1\n",
        "    while i < max_len and ID.item() != end:\n",
        "        text = torch.LongTensor([[ID]]).to(device)\n",
        "        output, hidden = model(text, hidden)\n",
        "        ID = torch.argmax(output)\n",
        "        strings.append(CHAR_TEXT.vocab.itos[ID.item()])\n",
        "        i += 1\n",
        "    ### END OF YOUR CODE \n",
        "    return strings"
      ],
      "execution_count": 57,
      "outputs": []
    },
    {
      "cell_type": "code",
      "metadata": {
        "id": "XoDOVZ4HE165",
        "colab_type": "code",
        "colab": {
          "base_uri": "https://localhost:8080/",
          "height": 1122
        },
        "outputId": "efa4a932-a4cc-4dc2-de41-a6b5b5bee153"
      },
      "source": [
        "char_greedy_search(CLM, 'h', 64)"
      ],
      "execution_count": 58,
      "outputs": [
        {
          "output_type": "execute_result",
          "data": {
            "text/plain": [
              "['h',\n",
              " 'e',\n",
              " ' ',\n",
              " 's',\n",
              " 't',\n",
              " 'a',\n",
              " 't',\n",
              " 'e',\n",
              " ' ',\n",
              " ',',\n",
              " ' ',\n",
              " 'a',\n",
              " 'n',\n",
              " 'd',\n",
              " ' ',\n",
              " 't',\n",
              " 'h',\n",
              " 'e',\n",
              " ' ',\n",
              " 's',\n",
              " 'e',\n",
              " 'c',\n",
              " 'o',\n",
              " 'n',\n",
              " 'd',\n",
              " ' ',\n",
              " 't',\n",
              " 'h',\n",
              " 'e',\n",
              " ' ',\n",
              " 's',\n",
              " 't',\n",
              " 'o',\n",
              " 'r',\n",
              " 'y',\n",
              " ' ',\n",
              " ',',\n",
              " ' ',\n",
              " 'a',\n",
              " 'n',\n",
              " 'd',\n",
              " ' ',\n",
              " 't',\n",
              " 'h',\n",
              " 'e',\n",
              " ' ',\n",
              " 's',\n",
              " 't',\n",
              " 'o',\n",
              " 'r',\n",
              " 'y',\n",
              " ' ',\n",
              " ',',\n",
              " ' ',\n",
              " 'a',\n",
              " 'n',\n",
              " 'd',\n",
              " ' ',\n",
              " 't',\n",
              " 'h',\n",
              " 'e',\n",
              " ' ',\n",
              " 's',\n",
              " 't',\n",
              " 'o']"
            ]
          },
          "metadata": {
            "tags": []
          },
          "execution_count": 58
        }
      ]
    },
    {
      "cell_type": "markdown",
      "metadata": {
        "colab_type": "text",
        "collapsed": true,
        "id": "cernoBq6CdX9"
      },
      "source": [
        "### Requirements:\n",
        "- This is an individual report.\n",
        "- Complete the code using Python.\n",
        "- List students with whom you have discussed if there are any.\n",
        "- Follow the honor code strictly."
      ]
    },
    {
      "cell_type": "markdown",
      "metadata": {
        "colab_type": "text",
        "id": "bDOUuC7-CdX-"
      },
      "source": [
        "### Free GPU Resources\n",
        "We suggest that you run neural language models on machines with GPU(s). Google provides the free online platform [Colaboratory](https://colab.research.google.com/notebooks/welcome.ipynb), a research tool for machine learning education and research. It’s a Jupyter notebook environment that requires no setup to use as common packages have been  pre-installed. Google users can have access to a Tesla T4 GPU (approximately 15G memory). Note that when you connect to a GPU-based VM runtime, you are given a maximum of 12 hours at a time on the VM.\n",
        "\n",
        "It is convenient to upload local Jupyter Notebook files and data to Colab, please refer to the [tutorial](https://colab.research.google.com/notebooks/io.ipynb). \n",
        "\n",
        "In addition, Microsoft also provides the online platform [Azure Notebooks](https://notebooks.azure.com/help/introduction) for research of data science and machine learning, there are free trials for new users with credits."
      ]
    }
  ]
}